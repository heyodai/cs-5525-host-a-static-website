{
 "cells": [
  {
   "cell_type": "markdown",
   "metadata": {},
   "source": [
    "# CS5525: Hosting a Static Website\n",
    "\n",
    "Odai Athamneh - 16293831\n",
    "\n",
    "Per [the assignment](https://umsystem.instructure.com/courses/238738/assignments/2363628):\n",
    "\n",
    "> Assignment 1: Host a static website (you can get lots of sample templates online) on the Google Cloud (you can choose another cloud platform if you have an account and credit), write the steps with the activity screenshot, and submit it as a report.\n",
    "> \n",
    "> In addition, please share the link in the report so we can check the site.\n",
    "> \n",
    "> Please keep in mind that it is not a group assignment. You have to do it yourself. Thanks, and all the best.\n",
    "\n",
    "This Jupyter notebook contains the steps I took to complete the assignment. The static website is [available here](https://cs-5525-static-website.web.app/)."
   ]
  },
  {
   "cell_type": "code",
   "execution_count": 1,
   "metadata": {},
   "outputs": [
    {
     "data": {
      "text/markdown": [
       "Table of Contents\n",
       "- [CS5525: Hosting a Static Website](#cs5525:-hosting-a-static-website)\n",
       "    - [Step 1. Environment Setup](##step-1.-environment-setup)\n",
       "    - [Step 2. Create a Vue Project](##step-2.-create-a-vue-project)\n",
       "    - [Step 3. Build and Deploy](##step-3.-build-and-deploy)\n",
       "    - [Step 4. Submit the Report](##step-4.-submit-the-report)"
      ],
      "text/plain": [
       "<IPython.core.display.Markdown object>"
      ]
     },
     "metadata": {},
     "output_type": "display_data"
    }
   ],
   "source": [
    "import jupyter_toc # Humble brag: I wrote this\n",
    "\n",
    "jupyter_toc.build('report.ipynb')"
   ]
  },
  {
   "cell_type": "markdown",
   "metadata": {},
   "source": [
    "## Step 1. Environment Setup"
   ]
  },
  {
   "cell_type": "code",
   "execution_count": null,
   "metadata": {},
   "outputs": [],
   "source": [
    "# Install dependencies\n",
    "!npm install -g @vue/cli\n",
    "!npm install -g firebase-tools\n",
    "!brew install --cask google-cloud-sdk\n",
    "!brew install firebase-cli"
   ]
  },
  {
   "cell_type": "markdown",
   "metadata": {},
   "source": [
    "<img src=\"./screenshots/step1.png\" alt=\"Step 3\" width=\"600\"/>"
   ]
  },
  {
   "cell_type": "markdown",
   "metadata": {},
   "source": [
    "## Step 2. Create a Vue Project"
   ]
  },
  {
   "cell_type": "code",
   "execution_count": null,
   "metadata": {},
   "outputs": [],
   "source": [
    "!vue create . # Create Vue project\n",
    "!vue add vuetify # Add Vuetify to Vue project"
   ]
  },
  {
   "cell_type": "markdown",
   "metadata": {},
   "source": [
    "<img src=\"./screenshots/step2.png\" alt=\"Step 3\" width=\"600\"/>"
   ]
  },
  {
   "cell_type": "markdown",
   "metadata": {},
   "source": [
    "## Step 3. Build and Deploy"
   ]
  },
  {
   "cell_type": "code",
   "execution_count": null,
   "metadata": {},
   "outputs": [],
   "source": [
    "!npm run build # Build Vue project in `/dist` directory\n",
    "!gcloud init # Initialize Google Cloud SDK\n",
    "\n",
    "# Deploy to Firebase\n",
    "!firebase login\n",
    "!firebase init\n",
    "!firebase deploy"
   ]
  },
  {
   "cell_type": "markdown",
   "metadata": {},
   "source": [
    "<img src=\"./screenshots/step3.png\" alt=\"Step 3\" width=\"600\"/>"
   ]
  },
  {
   "cell_type": "markdown",
   "metadata": {},
   "source": [
    "## Step 4. Submit the Report"
   ]
  },
  {
   "cell_type": "code",
   "execution_count": 3,
   "metadata": {},
   "outputs": [
    {
     "name": "stdout",
     "output_type": "stream",
     "text": [
      "[NbConvertApp] Converting notebook report.ipynb to markdown\n",
      "[NbConvertApp] Writing 2550 bytes to README.md\n"
     ]
    }
   ],
   "source": [
    "!jupyter nbconvert --to markdown --output README.md report.ipynb # Convert Jupyter notebook to Markdown"
   ]
  }
 ],
 "metadata": {
  "kernelspec": {
   "display_name": ".venv",
   "language": "python",
   "name": "python3"
  },
  "language_info": {
   "codemirror_mode": {
    "name": "ipython",
    "version": 3
   },
   "file_extension": ".py",
   "mimetype": "text/x-python",
   "name": "python",
   "nbconvert_exporter": "python",
   "pygments_lexer": "ipython3",
   "version": "3.11.6"
  }
 },
 "nbformat": 4,
 "nbformat_minor": 2
}
